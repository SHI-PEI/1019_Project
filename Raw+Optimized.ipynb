{
 "cells": [
  {
   "cell_type": "markdown",
   "id": "d627a656",
   "metadata": {
    "id": "d627a656"
   },
   "source": [
    "# Raw: Initial Codes"
   ]
  },
  {
   "cell_type": "code",
   "execution_count": 1,
   "id": "67085ec7",
   "metadata": {
    "id": "67085ec7"
   },
   "outputs": [],
   "source": [
    "import numpy as np\n",
    "import pandas as pd\n",
    "from scipy.integrate import odeint\n",
    "import matplotlib.pyplot as plt\n",
    "\n",
    "class Life_6:\n",
    "    def __init__(self, investment_fraction, interest_rate_proc=5, income=10000, spending=7000, tax_rate=0.19,\n",
    "                 pension=4000, starting_age=18, retirement_age=67, pay_raise=250, life_inflation=50, inflation_proc=4):\n",
    "        self.investment_fraction = investment_fraction  # beta\n",
    "        self.interest_rate_proc = interest_rate_proc  # 5%\n",
    "        self.income = income  # gold pcs. per month\n",
    "        self.spending = spending  # gold pcs. per month\n",
    "        self.tax_rate = tax_rate  # example\n",
    "        self.pension = pension\n",
    "        self.starting_age = starting_age\n",
    "        self.retirement_age = retirement_age\n",
    "        self.pay_raise = pay_raise\n",
    "        self.life_inflation = life_inflation\n",
    "        self.inflation_proc = inflation_proc\n",
    "\n",
    "    def earn(self, t):\n",
    "        if t < self.starting_age:\n",
    "            return 0\n",
    "        elif self.starting_age <= t < self.retirement_age:\n",
    "            return 12 * (self.income + self.pay_raise \\\n",
    "                      * (t - self.starting_age))\n",
    "        else:\n",
    "            return 12 * self.pension\n",
    "\n",
    "    def spend(self, t):\n",
    "        return 12 * (self.spending + self.life_inflation \\\n",
    "                  * (t - self.starting_age))\n",
    "\n",
    "    def pay_taxes(self, t):\n",
    "        return self.earn(t) * self.tax_rate\n",
    "\n",
    "def live_with_investing(x, t, you):\n",
    "    balance = you.earn(t) - you.spend(t) - you.pay_taxes(t)\n",
    "    x1 = balance * (1 - you.investment_fraction) - np.log(1 + 0.01 * you.inflation_proc) * x[0]\n",
    "    if t < you.retirement_age:\n",
    "        x2 = np.log(1 + 0.01 * you.interest_rate_proc) * x[1] + you.investment_fraction * balance\n",
    "    else:\n",
    "        x2 = np.log(1 + 0.01 * you.interest_rate_proc) * x[1]  # Continue to grow the investment bucket\n",
    "    x2 -= np.log(1 + 0.01 * you.inflation_proc) * x[1]\n",
    "\n",
    "    return [x1, x2]\n",
    "\n",
    "# +\n",
    "def live_without_investing(x, t, you):\n",
    "    balance = you.earn(t) - you.spend(t) - you.pay_taxes(t)\n",
    "    return balance - np.log(1 + 0.01*you.inflation_proc) * x\n",
    "\n",
    "\n",
    "def simulate(you):\n",
    "    ...  # t0, t1, t2 - as before\n",
    "    t0 = np.linspace(0, you.starting_age - 1, num=you.starting_age)\n",
    "    t1 = np.linspace(you.starting_age, you.retirement_age - 1, num=(you.retirement_age - you.starting_age))\n",
    "    t2 = np.linspace(you.retirement_age, 100, num=(100 - you.retirement_age))\n",
    "\n",
    "    # non-investor\n",
    "    x1_0 = np.zeros((t0.shape[0], 1))\n",
    "    x1_1 = odeint(live_without_investing, 0, t1, args=(you,))\n",
    "    x1_2 = odeint(live_without_investing, x1_1[-1], t2, args=(you,))\n",
    "\n",
    "    # investor\n",
    "    x2_0 = np.zeros((t0.shape[0], 2))\n",
    "    x2_1 = odeint(live_with_investing, [0, 0], t1, args=(you,))\n",
    "    x2_2 = odeint(live_with_investing, x2_1[-1], t2, args=(you,))\n",
    "\n",
    "\n",
    "    df0 = pd.DataFrame({'time': t0, 'wallet (non-investor)': x1_0[:, 0], 'wallet (investor)': x2_0[:, 0], 'investment bucket (investor)': x2_0[:, 1]})\n",
    "    df1 = pd.DataFrame({'time': t1, 'wallet (non-investor)': x1_1[:, 0], 'wallet (investor)': x2_1[:, 0], 'investment bucket (investor)': x2_1[:, 1]})\n",
    "    df2 = pd.DataFrame({'time': t2, 'wallet (non-investor)': x1_2[:, 0], 'wallet (investor)': x2_2[:, 0], 'investment bucket (investor)': x2_2[:, 1]})\n",
    "    return pd.concat([df0, df1, df2])"
   ]
  },
  {
   "cell_type": "code",
   "execution_count": 2,
   "id": "b359db48",
   "metadata": {
    "colab": {
     "base_uri": "https://localhost:8080/"
    },
    "id": "b359db48",
    "outputId": "ff0e0bc4-543c-48c0-8b8d-19da8baceb79"
   },
   "outputs": [
    {
     "name": "stdout",
     "output_type": "stream",
     "text": [
      "12.042726039886475 s\n"
     ]
    }
   ],
   "source": [
    "import time\n",
    "\n",
    "start_time = time.time()\n",
    "\n",
    "\n",
    "betas = [0.001*x for x in range(1000)]\n",
    "# betas = [0, 0.2, 0.4, 0.6, 0.8, 1.0]\n",
    "instances = [Life_6(investment_fraction=beta, interest_rate_proc=5, pension=1000) for beta in betas]\n",
    "\n",
    "\n",
    "dfs = {}\n",
    "for instance in instances:\n",
    "    tmp = simulate(instance)\n",
    "    tmp['total net asssets (investor)'] = tmp['wallet (investor)'] + tmp['investment bucket (investor)']\n",
    "    tmp = tmp.drop(columns=['wallet (non-investor)', 'wallet (investor)', 'investment bucket (investor)'])\n",
    "    dfs[instance.investment_fraction] = tmp\n",
    "\n",
    "end_time = time.time()\n",
    "\n",
    "\n",
    "print(end_time - start_time, \"s\")\n"
   ]
  },
  {
   "cell_type": "markdown",
   "id": "146c0da2",
   "metadata": {
    "id": "146c0da2"
   },
   "source": [
    "# Python Optimization\n",
    "- Changing Data Structures: Replace the methods of a Python class with functions, and replace attributes with function variables, no longer using the class.\n",
    "- Reduce function call overheads: Reduce the number of calls to other functions within a function, and rewrite the function to integrate and optimize.\n",
    "- Replace global variables with local ones (TBC)\n",
    "- Loop optimization (TBC)"
   ]
  },
  {
   "cell_type": "markdown",
   "id": "b3e83282",
   "metadata": {
    "id": "b3e83282"
   },
   "source": [
    "#### Data Structure Modify"
   ]
  },
  {
   "cell_type": "code",
   "execution_count": 3,
   "id": "59df8ea9",
   "metadata": {
    "id": "59df8ea9"
   },
   "outputs": [],
   "source": [
    "import numpy as np\n",
    "import pandas as pd\n",
    "from scipy.integrate import odeint\n",
    "import matplotlib.pyplot as plt\n",
    "\n",
    "def earn(t, starting_age, retirement_age, income, pay_raise, pension):\n",
    "    if t < starting_age:\n",
    "        return 0\n",
    "    elif starting_age <= t < retirement_age:\n",
    "        return 12 * (income + pay_raise * (t - starting_age))\n",
    "    else:\n",
    "        return 12 * pension\n",
    "\n",
    "def spend(t, starting_age, spending, life_inflation):\n",
    "    return 12 * (spending + life_inflation * (t - starting_age))\n",
    "\n",
    "def pay_taxes(t, tax_rate, starting_age, retirement_age, income, pay_raise, pension):\n",
    "    earned = earn(t, starting_age, retirement_age, income, pay_raise, pension)\n",
    "    return earned * tax_rate\n",
    "\n",
    "def live_with_investing(x, t, investment_fraction, interest_rate_proc, inflation_proc, starting_age, retirement_age, income, pay_raise, pension, spending, life_inflation, tax_rate):\n",
    "    balance = earn(t, starting_age, retirement_age, income, pay_raise, pension) - spend(t, starting_age, spending, life_inflation) - pay_taxes(t, tax_rate, starting_age, retirement_age, income, pay_raise, pension)\n",
    "    x1 = balance * (1 - investment_fraction) - np.log(1 + 0.01 * inflation_proc) * x[0]\n",
    "    if t < retirement_age:\n",
    "        x2 = np.log(1 + 0.01 * interest_rate_proc) * x[1] + investment_fraction * balance\n",
    "    else:\n",
    "        x2 = np.log(1 + 0.01 * interest_rate_proc) * x[1]  # Continue to grow the investment bucket\n",
    "    x2 -= np.log(1 + 0.01 * inflation_proc) * x[1]\n",
    "\n",
    "    return [x1, x2]\n",
    "\n",
    "def live_without_investing(x, t, inflation_proc, starting_age, retirement_age, income, pay_raise, pension, spending, life_inflation, tax_rate):\n",
    "    balance = earn(t, starting_age, retirement_age, income, pay_raise, pension) - spend(t, starting_age, spending, life_inflation) - pay_taxes(t, tax_rate, starting_age, retirement_age, income, pay_raise, pension)\n",
    "    return balance - np.log(1 + 0.01 * inflation_proc) * x\n",
    "\n",
    "def simulate(investment_fraction, interest_rate_proc, inflation_proc, starting_age, retirement_age, income, pay_raise, pension, spending, life_inflation, tax_rate):\n",
    "    t0 = np.linspace(0, starting_age - 1, num=starting_age)\n",
    "    t1 = np.linspace(starting_age, retirement_age - 1, num=(retirement_age - starting_age))\n",
    "    t2 = np.linspace(retirement_age, 100, num=(100 - retirement_age))\n",
    "\n",
    "    # non-investor\n",
    "    x1_0 = np.zeros((t0.shape[0], 1))\n",
    "    x1_1 = odeint(live_without_investing, 0, t1, args=(inflation_proc, starting_age, retirement_age, income, pay_raise, pension, spending, life_inflation, tax_rate,))\n",
    "    x1_2 = odeint(live_without_investing, x1_1[-1], t2, args=(inflation_proc, starting_age, retirement_age, income, pay_raise, pension, spending, life_inflation, tax_rate,))\n",
    "\n",
    "    # investor\n",
    "    x2_0 = np.zeros((t0.shape[0], 2))\n",
    "    x2_1 = odeint(live_with_investing, [0, 0], t1, args=(investment_fraction, interest_rate_proc, inflation_proc, starting_age, retirement_age, income, pay_raise, pension, spending, life_inflation, tax_rate,))\n",
    "    x2_2 = odeint(live_with_investing, x2_1[-1], t2, args=(investment_fraction, interest_rate_proc, inflation_proc, starting_age, retirement_age, income, pay_raise, pension, spending, life_inflation, tax_rate,))\n",
    "\n",
    "    df0 = pd.DataFrame({'time': t0, 'wallet (non-investor)': x1_0[:, 0], 'wallet (investor)': x2_0[:, 0], 'investment bucket (investor)': x2_0[:, 1]})\n",
    "    df1 = pd.DataFrame({'time': t1, 'wallet (non-investor)': x1_1[:, 0], 'wallet (investor)': x2_1[:, 0], 'investment bucket (investor)': x2_1[:, 1]})\n",
    "    df2 = pd.DataFrame({'time': t2, 'wallet (non-investor)': x1_2[:, 0], 'wallet (investor)': x2_2[:, 0], 'investment bucket (investor)': x2_2[:, 1]})\n",
    "    return pd.concat([df0, df1, df2])"
   ]
  },
  {
   "cell_type": "code",
   "execution_count": 4,
   "id": "edf8ce68",
   "metadata": {
    "colab": {
     "base_uri": "https://localhost:8080/"
    },
    "id": "edf8ce68",
    "outputId": "85154989-def7-4b9d-e923-03605e169da3"
   },
   "outputs": [
    {
     "data": {
      "text/plain": [
       "4.95019793510437"
      ]
     },
     "execution_count": 4,
     "metadata": {},
     "output_type": "execute_result"
    }
   ],
   "source": [
    "interest_rate_proc = 5  # 5%\n",
    "income = 10000  # gold pcs. per month\n",
    "spending = 7000  # gold pcs. per month\n",
    "tax_rate = 0.19  # example\n",
    "pension = 4000\n",
    "starting_age = 18\n",
    "retirement_age = 67\n",
    "pay_raise = 250\n",
    "life_inflation = 50\n",
    "inflation_proc = 4\n",
    "\n",
    "# Beta\n",
    "investment_fractions = [0.001 * x for x in range(1000)]\n",
    "start_time = time.time()\n",
    "\n",
    "results = []\n",
    "for fraction in investment_fractions:\n",
    "    result = simulate(fraction, interest_rate_proc, inflation_proc, starting_age, retirement_age, income, pay_raise, pension, spending, life_inflation, tax_rate)\n",
    "    results.append(result)\n",
    "\n",
    "end_time = time.time()\n",
    "total_duration = end_time - start_time\n",
    "total_duration"
   ]
  },
  {
   "cell_type": "markdown",
   "id": "66dd9606",
   "metadata": {
    "id": "66dd9606"
   },
   "source": [
    "#### Function Call Overhead Reduction\n",
    "- Integrate subsidiary functions including \"earn\", \"spend\" and \"pay_tax\" into the primary function \"simulate\"."
   ]
  },
  {
   "cell_type": "code",
   "execution_count": 5,
   "id": "1c10a4f5",
   "metadata": {
    "id": "1c10a4f5"
   },
   "outputs": [],
   "source": [
    "import numpy as np\n",
    "import pandas as pd\n",
    "from scipy.integrate import odeint\n",
    "import matplotlib.pyplot as plt\n",
    "\n",
    "\n",
    "'''\n",
    "def earn(t, starting_age, retirement_age, income, pay_raise, pension):\n",
    "    if t < starting_age:\n",
    "        return 0\n",
    "    elif starting_age <= t < retirement_age:\n",
    "        return 12 * (income + pay_raise * (t - starting_age))\n",
    "    else:\n",
    "        return 12 * pension\n",
    "\n",
    "def spend(t, starting_age, spending, life_inflation):\n",
    "    return 12 * (spending + life_inflation * (t - starting_age))\n",
    "\n",
    "def pay_taxes(t, tax_rate, starting_age, retirement_age, income, pay_raise, pension):\n",
    "    earned = earn(t, starting_age, retirement_age, income, pay_raise, pension)\n",
    "    return earned * tax_rate\n",
    "\n",
    "'''\n",
    "\n",
    "def live_with_investing(x, t, investment_fraction, interest_rate_proc, inflation_proc, starting_age, retirement_age, income, pay_raise, pension, spending, life_inflation, tax_rate):\n",
    "\n",
    "    # calculate earning\n",
    "    if t < starting_age:\n",
    "        earned = 0\n",
    "    elif starting_age <= t < retirement_age:\n",
    "        earned = 12 * (income + pay_raise * (t - starting_age))\n",
    "    else:\n",
    "        earned = 12 * pension\n",
    "\n",
    "    balance = (1 - tax_rate) * earned - 12 * (spending + life_inflation * (t - starting_age))\n",
    "\n",
    "    x1 = balance * (1 - investment_fraction) - np.log(1 + 0.01 * inflation_proc) * x[0]\n",
    "    if t < retirement_age:\n",
    "        x2 = np.log(1 + 0.01 * interest_rate_proc) * x[1] + investment_fraction * balance\n",
    "    else:\n",
    "        x2 = np.log(1 + 0.01 * interest_rate_proc) * x[1]  # Continue to grow the investment bucket\n",
    "    x2 -= np.log(1 + 0.01 * inflation_proc) * x[1]\n",
    "\n",
    "    return [x1, x2]\n",
    "\n",
    "def live_without_investing(x, t, inflation_proc, starting_age, retirement_age, income, pay_raise, pension, spending, life_inflation, tax_rate):\n",
    "\n",
    "    # calculate earning\n",
    "    if t < starting_age:\n",
    "        earned = 0\n",
    "    elif starting_age <= t < retirement_age:\n",
    "        earned = 12 * (income + pay_raise * (t - starting_age))\n",
    "    else:\n",
    "        earned = 12 * pension\n",
    "\n",
    "    balance = (1 - tax_rate) * earned - 12 * (spending + life_inflation * (t - starting_age))\n",
    "\n",
    "    return balance - np.log(1 + 0.01 * inflation_proc) * x\n",
    "\n",
    "def simulate(investment_fraction, interest_rate_proc, inflation_proc, starting_age, retirement_age, income, pay_raise, pension, spending, life_inflation, tax_rate):\n",
    "    t0 = np.linspace(0, starting_age - 1, num=starting_age)\n",
    "    t1 = np.linspace(starting_age, retirement_age - 1, num=(retirement_age - starting_age))\n",
    "    t2 = np.linspace(retirement_age, 100, num=(100 - retirement_age))\n",
    "\n",
    "    # non-investor\n",
    "    x1_0 = np.zeros((t0.shape[0], 1))\n",
    "    x1_1 = odeint(live_without_investing, 0, t1, args=(inflation_proc, starting_age, retirement_age, income, pay_raise, pension, spending, life_inflation, tax_rate,))\n",
    "    x1_2 = odeint(live_without_investing, x1_1[-1], t2, args=(inflation_proc, starting_age, retirement_age, income, pay_raise, pension, spending, life_inflation, tax_rate,))\n",
    "\n",
    "    # investor\n",
    "    x2_0 = np.zeros((t0.shape[0], 2))\n",
    "    x2_1 = odeint(live_with_investing, [0, 0], t1, args=(investment_fraction, interest_rate_proc, inflation_proc, starting_age, retirement_age, income, pay_raise, pension, spending, life_inflation, tax_rate,))\n",
    "    x2_2 = odeint(live_with_investing, x2_1[-1], t2, args=(investment_fraction, interest_rate_proc, inflation_proc, starting_age, retirement_age, income, pay_raise, pension, spending, life_inflation, tax_rate,))\n",
    "\n",
    "    df0 = pd.DataFrame({'time': t0, 'wallet (non-investor)': x1_0[:, 0], 'wallet (investor)': x2_0[:, 0], 'investment bucket (investor)': x2_0[:, 1]})\n",
    "    df1 = pd.DataFrame({'time': t1, 'wallet (non-investor)': x1_1[:, 0], 'wallet (investor)': x2_1[:, 0], 'investment bucket (investor)': x2_1[:, 1]})\n",
    "    df2 = pd.DataFrame({'time': t2, 'wallet (non-investor)': x1_2[:, 0], 'wallet (investor)': x2_2[:, 0], 'investment bucket (investor)': x2_2[:, 1]})\n",
    "    return pd.concat([df0, df1, df2])"
   ]
  },
  {
   "cell_type": "code",
   "execution_count": 6,
   "id": "eb2cd3f3",
   "metadata": {
    "colab": {
     "base_uri": "https://localhost:8080/"
    },
    "id": "eb2cd3f3",
    "outputId": "56524ac9-2918-41c9-ac7e-61ac74694f94"
   },
   "outputs": [
    {
     "data": {
      "text/plain": [
       "4.313634395599365"
      ]
     },
     "execution_count": 6,
     "metadata": {},
     "output_type": "execute_result"
    }
   ],
   "source": [
    "interest_rate_proc = 5  # 5%\n",
    "income = 10000  # gold pcs. per month\n",
    "spending = 7000  # gold pcs. per month\n",
    "tax_rate = 0.19  # example\n",
    "pension = 4000\n",
    "starting_age = 18\n",
    "retirement_age = 67\n",
    "pay_raise = 250\n",
    "life_inflation = 50\n",
    "inflation_proc = 4\n",
    "\n",
    "# Beta\n",
    "investment_fractions = [0.001 * x for x in range(1000)]\n",
    "start_time = time.time()\n",
    "\n",
    "results = []\n",
    "for fraction in investment_fractions:\n",
    "    result = simulate(fraction, interest_rate_proc, inflation_proc, starting_age, retirement_age, income, pay_raise, pension, spending, life_inflation, tax_rate)\n",
    "    results.append(result)\n",
    "\n",
    "end_time = time.time()\n",
    "total_duration = end_time - start_time\n",
    "total_duration"
   ]
  },
  {
   "cell_type": "markdown",
   "id": "8d230980",
   "metadata": {
    "id": "8d230980"
   },
   "source": [
    "# Cython"
   ]
  },
  {
   "cell_type": "code",
   "execution_count": 7,
   "id": "2e97c51a",
   "metadata": {
    "id": "2e97c51a"
   },
   "outputs": [],
   "source": [
    "%load_ext Cython"
   ]
  },
  {
   "cell_type": "code",
   "execution_count": 8,
   "id": "666d830d",
   "metadata": {
    "colab": {
     "base_uri": "https://localhost:8080/"
    },
    "id": "666d830d",
    "outputId": "73902e62-2443-41a5-85bc-10634cb43dc4",
    "scrolled": false
   },
   "outputs": [
    {
     "name": "stdout",
     "output_type": "stream",
     "text": [
      "3.933295249938965\n"
     ]
    }
   ],
   "source": [
    "%%cython\n",
    "import numpy as np\n",
    "cimport numpy as np\n",
    "from libc.math cimport log\n",
    "from scipy.integrate import odeint\n",
    "import pandas as pd\n",
    "import time\n",
    "\n",
    "cdef double live_without_investing(double x, double t, double inflation_proc, int starting_age, int retirement_age, double income, double pay_raise, double pension, double spending, double life_inflation, double tax_rate):\n",
    "    cdef double earned, balance\n",
    "    if t < starting_age:\n",
    "        earned = 0\n",
    "    elif starting_age <= t < retirement_age:\n",
    "        earned = 12 * (income + pay_raise * (t - starting_age))\n",
    "    else:\n",
    "        earned = 12 * pension\n",
    "\n",
    "    balance = (1 - tax_rate) * earned - 12 * (spending + life_inflation * (t - starting_age))\n",
    "    return balance - log(1 + 0.01 * inflation_proc) * x\n",
    "\n",
    "def live_with_investing(double[:] x, double t, double investment_fraction, double interest_rate_proc, double inflation_proc, int starting_age, int retirement_age, double income, double pay_raise, double pension, double spending, double life_inflation, double tax_rate):\n",
    "    cdef double earned, balance\n",
    "    cdef double x1, x2\n",
    "    if t < starting_age:\n",
    "        earned = 0\n",
    "    elif starting_age <= t < retirement_age:\n",
    "        earned = 12 * (income + pay_raise * (t - starting_age))\n",
    "    else:\n",
    "        earned = 12 * pension\n",
    "\n",
    "    balance = (1 - tax_rate) * earned - 12 * (spending + life_inflation * (t - starting_age))\n",
    "\n",
    "    x1 = balance * (1 - investment_fraction) - log(1 + 0.01 * inflation_proc) * x[0]\n",
    "    x2 = log(1 + 0.01 * interest_rate_proc) * x[1] + investment_fraction * balance\n",
    "    x2 -= log(1 + 0.01 * inflation_proc) * x[1]\n",
    "\n",
    "    return np.array([x1, x2], dtype=np.float64)\n",
    "\n",
    "def simulate_cython(double investment_fraction, double interest_rate_proc, double inflation_proc, int starting_age, int retirement_age, double income, double pay_raise, double pension, double spending, double life_inflation, double tax_rate):\n",
    "    cdef int num_years1 = retirement_age - starting_age\n",
    "    cdef int num_years2 = 100 - retirement_age\n",
    "    cdef np.ndarray[np.float64_t, ndim=1] t0 = np.linspace(0, starting_age - 1, num=starting_age, dtype=np.float64)\n",
    "    cdef np.ndarray[np.float64_t, ndim=1] t1 = np.linspace(starting_age, retirement_age - 1, num=num_years1, dtype=np.float64)\n",
    "    cdef np.ndarray[np.float64_t, ndim=1] t2 = np.linspace(retirement_age, 100, num=num_years2, dtype=np.float64)\n",
    "\n",
    "    # non-investor\n",
    "    cdef np.ndarray[np.float64_t, ndim=1] x1_0 = np.zeros(t0.shape[0], dtype=np.float64)\n",
    "    cdef np.ndarray x1_1 = odeint(live_without_investing, 0, t1, args=(inflation_proc, starting_age, retirement_age, income, pay_raise, pension, spending, life_inflation, tax_rate,))\n",
    "    cdef np.ndarray x1_2 = odeint(live_without_investing, x1_1[-1], t2, args=(inflation_proc, starting_age, retirement_age, income, pay_raise, pension, spending, life_inflation, tax_rate,))\n",
    "\n",
    "    # investor\n",
    "    cdef np.ndarray[np.float64_t, ndim=2] x2_0 = np.zeros((t0.shape[0], 2), dtype=np.float64)\n",
    "    cdef np.ndarray x2_1 = odeint(live_with_investing, np.array([0, 0], dtype=np.float64), t1, args=(investment_fraction, interest_rate_proc, inflation_proc, starting_age, retirement_age, income, pay_raise, pension, spending, life_inflation, tax_rate,))\n",
    "    cdef np.ndarray x2_2 = odeint(live_with_investing, x2_1[-1], t2, args=(investment_fraction, interest_rate_proc, inflation_proc, starting_age, retirement_age, income, pay_raise, pension, spending, life_inflation, tax_rate,))\n",
    "\n",
    "    df0 = pd.DataFrame({'time': t0, 'wallet (non-investor)': x1_0, 'wallet (investor)': x2_0[:, 0], 'investment bucket (investor)': x2_0[:, 1]})\n",
    "    df1 = pd.DataFrame({'time': t1, 'wallet (non-investor)': x1_1[:, 0], 'wallet (investor)': x2_1[:, 0], 'investment bucket (investor)': x2_1[:, 1]})\n",
    "    df2 = pd.DataFrame({'time': t2, 'wallet (non-investor)': x1_2[:, 0], 'wallet (investor)': x2_2[:, 0], 'investment bucket (investor)': x2_2[:, 1]})\n",
    "    return pd.concat([df0, df1, df2])\n",
    "\n",
    "cdef double interest_rate_proc = 5  # 5%\n",
    "cdef double income = 10000  # gold pcs. per month\n",
    "cdef double spending = 7000  # gold pcs. per month\n",
    "cdef double tax_rate = 0.19  # example\n",
    "cdef double pension = 4000\n",
    "cdef int starting_age = 18\n",
    "cdef int retirement_age = 67\n",
    "cdef double pay_raise = 250\n",
    "cdef double life_inflation = 50\n",
    "cdef double inflation_proc = 4\n",
    "\n",
    "# Beta\n",
    "investment_fractions = [0.001 * x for x in range(1000)]\n",
    "start_time = time.time()\n",
    "\n",
    "results = []\n",
    "for fraction in investment_fractions:\n",
    "    result = simulate_cython(fraction, interest_rate_proc, inflation_proc, starting_age, retirement_age, income, pay_raise, pension, spending, life_inflation, tax_rate)\n",
    "    results.append(result)\n",
    "\n",
    "end_time = time.time()\n",
    "total_duration = end_time - start_time\n",
    "print(total_duration)"
   ]
  },
  {
   "cell_type": "code",
   "execution_count": 9,
   "id": "qXTUB_nIh43B",
   "metadata": {
    "colab": {
     "base_uri": "https://localhost:8080/"
    },
    "id": "qXTUB_nIh43B",
    "outputId": "fed38f8b-e383-4d04-9093-31bcd3ab54e1"
   },
   "outputs": [
    {
     "name": "stdout",
     "output_type": "stream",
     "text": [
      "3.933295249938965\n"
     ]
    }
   ],
   "source": [
    "print(total_duration)"
   ]
  },
  {
   "cell_type": "markdown",
   "id": "87532bb2",
   "metadata": {
    "id": "87532bb2"
   },
   "source": [
    "# Numba"
   ]
  },
  {
   "cell_type": "code",
   "execution_count": 9,
   "id": "e81e4388",
   "metadata": {
    "colab": {
     "base_uri": "https://localhost:8080/"
    },
    "id": "e81e4388",
    "outputId": "990e5f0d-bc8d-4b44-d136-b58146e60fa7"
   },
   "outputs": [
    {
     "name": "stderr",
     "output_type": "stream",
     "text": [
      "<ipython-input-9-5a3874c55639>:47: NumbaDeprecationWarning: The 'nopython' keyword argument was not supplied to the 'numba.jit' decorator. The implicit default value for this argument is currently False, but it will be changed to True in Numba 0.59.0. See https://numba.readthedocs.io/en/stable/reference/deprecation.html#deprecation-of-object-mode-fall-back-behaviour-when-using-jit for details.\n",
      "  def simulate(investment_fraction, interest_rate_proc, inflation_proc, starting_age, retirement_age, income, pay_raise, pension, spending, life_inflation, tax_rate):\n"
     ]
    }
   ],
   "source": [
    "from numba import njit, jit, float64, int64\n",
    "import numpy as np\n",
    "import pandas as pd\n",
    "from scipy.integrate import odeint\n",
    "import matplotlib.pyplot as plt\n",
    "import time\n",
    "\n",
    "\n",
    "@njit\n",
    "def live_with_investing(x, t, investment_fraction, interest_rate_proc, inflation_proc, starting_age, retirement_age, income, pay_raise, pension, spending, life_inflation, tax_rate):\n",
    "\n",
    "    # calculate earning\n",
    "    if t < starting_age:\n",
    "        earned = 0\n",
    "    elif starting_age <= t < retirement_age:\n",
    "        earned = 12 * (income + pay_raise * (t - starting_age))\n",
    "    else:\n",
    "        earned = 12 * pension\n",
    "\n",
    "    balance = (1 - tax_rate) * earned - 12 * (spending + life_inflation * (t - starting_age))\n",
    "\n",
    "    x1 = balance * (1 - investment_fraction) - np.log(1 + 0.01 * inflation_proc) * x[0]\n",
    "    if t < retirement_age:\n",
    "        x2 = np.log(1 + 0.01 * interest_rate_proc) * x[1] + investment_fraction * balance\n",
    "    else:\n",
    "        x2 = np.log(1 + 0.01 * interest_rate_proc) * x[1]  # Continue to grow the investment bucket\n",
    "    x2 -= np.log(1 + 0.01 * inflation_proc) * x[1]\n",
    "\n",
    "    return [x1, x2]\n",
    "\n",
    "@njit\n",
    "def live_without_investing(x, t, inflation_proc, starting_age, retirement_age, income, pay_raise, pension, spending, life_inflation, tax_rate):\n",
    "\n",
    "    # calculate earning\n",
    "    if t < starting_age:\n",
    "        earned = 0\n",
    "    elif starting_age <= t < retirement_age:\n",
    "        earned = 12 * (income + pay_raise * (t - starting_age))\n",
    "    else:\n",
    "        earned = 12 * pension\n",
    "\n",
    "    balance = (1 - tax_rate) * earned - 12 * (spending + life_inflation * (t - starting_age))\n",
    "\n",
    "    return balance - np.log(1 + 0.01 * inflation_proc) * x\n",
    "\n",
    "@jit\n",
    "def simulate(investment_fraction, interest_rate_proc, inflation_proc, starting_age, retirement_age, income, pay_raise, pension, spending, life_inflation, tax_rate):\n",
    "    t0 = np.linspace(0, starting_age - 1, num=starting_age)\n",
    "    t1 = np.linspace(starting_age, retirement_age - 1, num=(retirement_age - starting_age))\n",
    "    t2 = np.linspace(retirement_age, 100, num=(100 - retirement_age))\n",
    "\n",
    "    # non-investor\n",
    "    x1_0 = np.zeros((t0.shape[0], 1))\n",
    "    x1_1 = odeint(live_without_investing, 0, t1, args=(inflation_proc, starting_age, retirement_age, income, pay_raise, pension, spending, life_inflation, tax_rate,))\n",
    "    x1_2 = odeint(live_without_investing, x1_1[-1], t2, args=(inflation_proc, starting_age, retirement_age, income, pay_raise, pension, spending, life_inflation, tax_rate,))\n",
    "\n",
    "    # investor\n",
    "    x2_0 = np.zeros((t0.shape[0], 2))\n",
    "    x2_1 = odeint(live_with_investing, [0, 0], t1, args=(investment_fraction, interest_rate_proc, inflation_proc, starting_age, retirement_age, income, pay_raise, pension, spending, life_inflation, tax_rate,))\n",
    "    x2_2 = odeint(live_with_investing, x2_1[-1], t2, args=(investment_fraction, interest_rate_proc, inflation_proc, starting_age, retirement_age, income, pay_raise, pension, spending, life_inflation, tax_rate,))\n",
    "\n",
    "    df0 = pd.DataFrame({'time': t0, 'wallet (non-investor)': x1_0[:, 0], 'wallet (investor)': x2_0[:, 0], 'investment bucket (investor)': x2_0[:, 1]})\n",
    "    df1 = pd.DataFrame({'time': t1, 'wallet (non-investor)': x1_1[:, 0], 'wallet (investor)': x2_1[:, 0], 'investment bucket (investor)': x2_1[:, 1]})\n",
    "    df2 = pd.DataFrame({'time': t2, 'wallet (non-investor)': x1_2[:, 0], 'wallet (investor)': x2_2[:, 0], 'investment bucket (investor)': x2_2[:, 1]})\n",
    "    return pd.concat([df0, df1, df2])"
   ]
  },
  {
   "cell_type": "code",
   "execution_count": 10,
   "id": "3a662248",
   "metadata": {
    "colab": {
     "base_uri": "https://localhost:8080/"
    },
    "id": "3a662248",
    "outputId": "2c4fcbd8-dbe1-40f7-eec8-d7075688e4df"
   },
   "outputs": [
    {
     "name": "stderr",
     "output_type": "stream",
     "text": [
      "<ipython-input-9-5a3874c55639>:46: NumbaWarning: \n",
      "Compilation is falling back to object mode WITH looplifting enabled because Function \"simulate\" failed type inference due to: Untyped global name 'odeint': Cannot determine Numba type of <class 'function'>\n",
      "\n",
      "File \"<ipython-input-9-5a3874c55639>\", line 54:\n",
      "def simulate(investment_fraction, interest_rate_proc, inflation_proc, starting_age, retirement_age, income, pay_raise, pension, spending, life_inflation, tax_rate):\n",
      "    <source elided>\n",
      "    x1_0 = np.zeros((t0.shape[0], 1))\n",
      "    x1_1 = odeint(live_without_investing, 0, t1, args=(inflation_proc, starting_age, retirement_age, income, pay_raise, pension, spending, life_inflation, tax_rate,))\n",
      "    ^\n",
      "\n",
      "  @jit\n",
      "/usr/local/lib/python3.10/dist-packages/numba/core/object_mode_passes.py:151: NumbaWarning: Function \"simulate\" was compiled in object mode without forceobj=True.\n",
      "\n",
      "File \"<ipython-input-9-5a3874c55639>\", line 47:\n",
      "@jit\n",
      "def simulate(investment_fraction, interest_rate_proc, inflation_proc, starting_age, retirement_age, income, pay_raise, pension, spending, life_inflation, tax_rate):\n",
      "^\n",
      "\n",
      "  warnings.warn(errors.NumbaWarning(warn_msg,\n",
      "/usr/local/lib/python3.10/dist-packages/numba/core/object_mode_passes.py:161: NumbaDeprecationWarning: \n",
      "Fall-back from the nopython compilation path to the object mode compilation path has been detected. This is deprecated behaviour that will be removed in Numba 0.59.0.\n",
      "\n",
      "For more information visit https://numba.readthedocs.io/en/stable/reference/deprecation.html#deprecation-of-object-mode-fall-back-behaviour-when-using-jit\n",
      "\n",
      "File \"<ipython-input-9-5a3874c55639>\", line 47:\n",
      "@jit\n",
      "def simulate(investment_fraction, interest_rate_proc, inflation_proc, starting_age, retirement_age, income, pay_raise, pension, spending, life_inflation, tax_rate):\n",
      "^\n",
      "\n",
      "  warnings.warn(errors.NumbaDeprecationWarning(msg,\n"
     ]
    },
    {
     "name": "stdout",
     "output_type": "stream",
     "text": [
      "3.5835213661193848\n"
     ]
    }
   ],
   "source": [
    "interest_rate_proc = 5  # 5%\n",
    "income = 10000  # gold pcs. per month\n",
    "spending = 7000  # gold pcs. per month\n",
    "tax_rate = 0.19  # example\n",
    "pension = 4000\n",
    "starting_age = 18\n",
    "retirement_age = 67\n",
    "pay_raise = 250\n",
    "life_inflation = 50\n",
    "inflation_proc = 4\n",
    "\n",
    "# Beta\n",
    "investment_fractions = [0.001 * x for x in range(1000)]\n",
    "start_time = time.time()\n",
    "\n",
    "results = []\n",
    "for fraction in investment_fractions:\n",
    "    result = simulate(fraction, interest_rate_proc, inflation_proc, starting_age, retirement_age, income, pay_raise, pension, spending, life_inflation, tax_rate)\n",
    "    results.append(result)\n",
    "\n",
    "end_time = time.time()\n",
    "total_duration = end_time - start_time\n",
    "print(total_duration)"
   ]
  },
  {
   "cell_type": "code",
   "execution_count": 11,
   "id": "6b2c0a82",
   "metadata": {
    "colab": {
     "base_uri": "https://localhost:8080/"
    },
    "id": "6b2c0a82",
    "outputId": "090a4d20-564d-48c5-8294-e771084fac63"
   },
   "outputs": [
    {
     "name": "stdout",
     "output_type": "stream",
     "text": [
      "3.5835213661193848\n"
     ]
    }
   ],
   "source": [
    "print(total_duration)"
   ]
  },
  {
   "cell_type": "markdown",
   "id": "7a1b6535",
   "metadata": {
    "id": "7a1b6535"
   },
   "source": [
    "# Monte Carlo Simulation with MPI4PY\n",
    "## Test without mpi\n",
    "- This is for generating data for plots. For formal and full codes, see in non-mpi.py and with-mpi.py\n",
    "- Run with-mpi.py with the command\n",
    "```\n",
    "mpirun --np 8 python3 with_mpi.py\n",
    "```"
   ]
  },
  {
   "cell_type": "code",
   "execution_count": 1,
   "id": "6435cff9",
   "metadata": {
    "id": "6435cff9"
   },
   "outputs": [],
   "source": [
    "import numpy as np\n",
    "import pandas as pd\n",
    "from scipy.integrate import odeint\n",
    "import matplotlib.pyplot as plt\n",
    "\n",
    "class Life_real:\n",
    "    def __init__(self, investment_fraction, interest_rate_proc=5, income=10000, spending=7000, tax_rate=0.19,\n",
    "                 pension=500, starting_age=18, retirement_age=67, pay_raise=250, life_inflation=50, inflation_proc=4):\n",
    "        self.investment_fraction = investment_fraction  # beta\n",
    "        self.interest_rate_proc = interest_rate_proc  # 5%\n",
    "        self.income = income  # gold pcs. per month\n",
    "        self.spending = spending  # gold pcs. per month\n",
    "        self.tax_rate = tax_rate  # example\n",
    "        self.pension = pension\n",
    "        self.starting_age = starting_age\n",
    "        self.retirement_age = retirement_age\n",
    "        self.pay_raise = pay_raise\n",
    "        self.life_inflation = life_inflation\n",
    "        self.inflation_proc = inflation_proc\n",
    "\n",
    "    def earn(self, t):\n",
    "        if t < self.starting_age:\n",
    "            return 0\n",
    "        elif self.starting_age <= t < self.retirement_age:\n",
    "            return 12 * (self.income + self.pay_raise \\\n",
    "                      * (t - self.starting_age))\n",
    "        else:\n",
    "            return 12 * self.pension\n",
    "\n",
    "    def spend(self, t):\n",
    "        return 12 * (self.spending + self.life_inflation \\\n",
    "                  * (t - self.starting_age))\n",
    "\n",
    "    def pay_taxes(self, t):\n",
    "        return self.earn(t) * self.tax_rate\n",
    "\n",
    "def live_with_investing(x, t, you):\n",
    "    balance = you.earn(t) - you.spend(t) - you.pay_taxes(t)\n",
    "    x1 = balance * (1 - you.investment_fraction) - np.log(1 + 0.01 * you.inflation_proc) * x[0]\n",
    "    if t < you.retirement_age:\n",
    "        x2 = np.log(1 + 0.01 * you.interest_rate_proc) * x[1] + you.investment_fraction * balance\n",
    "    else:\n",
    "        x2 = np.log(1 + 0.01 * you.interest_rate_proc) * x[1]  # Continue to grow the investment bucket\n",
    "    x2 -= np.log(1 + 0.01 * you.inflation_proc) * x[1]\n",
    "\n",
    "    return [x1, x2]\n",
    "\n",
    "# +\n",
    "def live_without_investing(x, t, you):\n",
    "    balance = you.earn(t) - you.spend(t) - you.pay_taxes(t)\n",
    "    return balance - np.log(1 + 0.01*you.inflation_proc) * x\n",
    "\n",
    "\n",
    "def simulate(you):\n",
    "    t0 = np.linspace(0, you.starting_age - 1, num=you.starting_age)\n",
    "    t1 = np.linspace(you.starting_age, you.retirement_age - 1, num=(you.retirement_age - you.starting_age))\n",
    "    t2 = np.linspace(you.retirement_age, 100, num=(100 - you.retirement_age))\n",
    "\n",
    "    # non-investor\n",
    "    x1_0 = np.zeros((t0.shape[0], 1))\n",
    "    x1_1 = odeint(live_without_investing, 0, t1, args=(you,))\n",
    "    x1_2 = odeint(live_without_investing, x1_1[-1], t2, args=(you,))\n",
    "\n",
    "    # investor\n",
    "    x2_0 = np.zeros((t0.shape[0], 2))\n",
    "    x2_1 = odeint(live_with_investing, [0, 0], t1, args=(you,))\n",
    "    x2_2 = odeint(live_with_investing, x2_1[-1], t2, args=(you,))\n",
    "\n",
    "\n",
    "    df0 = pd.DataFrame({'time': t0, 'wallet (non-investor)': x1_0[:, 0], 'wallet (investor)': x2_0[:, 0], 'investment bucket (investor)': x2_0[:, 1]})\n",
    "    df1 = pd.DataFrame({'time': t1, 'wallet (non-investor)': x1_1[:, 0], 'wallet (investor)': x2_1[:, 0], 'investment bucket (investor)': x2_1[:, 1]})\n",
    "    df2 = pd.DataFrame({'time': t2, 'wallet (non-investor)': x1_2[:, 0], 'wallet (investor)': x2_2[:, 0], 'investment bucket (investor)': x2_2[:, 1]})\n",
    "    return pd.concat([df0, df1, df2])"
   ]
  },
  {
   "cell_type": "code",
   "execution_count": 4,
   "id": "2799270d",
   "metadata": {
    "colab": {
     "base_uri": "https://localhost:8080/"
    },
    "id": "2799270d",
    "outputId": "64ab9cfe-e6b5-4930-b2e5-d8c57138a319"
   },
   "outputs": [
    {
     "name": "stdout",
     "output_type": "stream",
     "text": [
      "10.900924444198608 s\n"
     ]
    }
   ],
   "source": [
    "import time\n",
    "\n",
    "start_time = time.time()\n",
    "\n",
    "# set the interest rate & inflation rate distr.\n",
    "mu_itr = 5\n",
    "sig_itr = 2\n",
    "mu_inf = 4\n",
    "sig_inf = 2\n",
    "\n",
    "dfs = {}\n",
    "MC_times = 2000\n",
    "for _ in range(MC_times):\n",
    "\n",
    "    # sample beta from beta distr.\n",
    "    beta = np.random.beta(2, 5)\n",
    "\n",
    "    # sample interest rate, inflation rate from normal distr.\n",
    "    interest_rate_proc = sig_itr * np.random.randn() + mu_itr\n",
    "    inflation_proc = sig_inf * np.random.randn() + mu_inf\n",
    "\n",
    "    instance = Life_real(investment_fraction=beta, interest_rate_proc=interest_rate_proc, inflation_proc=inflation_proc)\n",
    "\n",
    "    tmp = simulate(instance)\n",
    "    tmp['total net asssets (investor)'] = tmp['wallet (investor)'] + tmp['investment bucket (investor)']\n",
    "    tmp = tmp.drop(columns=['wallet (non-investor)', 'wallet (investor)', 'investment bucket (investor)'])\n",
    "    dfs[instance.investment_fraction] = tmp\n",
    "\n",
    "end_time = time.time()\n",
    "\n",
    "\n",
    "print(end_time - start_time, \"s\")\n"
   ]
  },
  {
   "cell_type": "code",
   "execution_count": 5,
   "id": "C71Miwxf9VML",
   "metadata": {
    "colab": {
     "base_uri": "https://localhost:8080/",
     "height": 564
    },
    "id": "C71Miwxf9VML",
    "outputId": "8df9df98-f9f0-4fc7-9b02-fb83858965f5"
   },
   "outputs": [
    {
     "data": {
      "image/png": "[encoded data removed]",
      "text/plain": [
       "<Figure size 1200x600 with 1 Axes>"
      ]
     },
     "metadata": {},
     "output_type": "display_data"
    }
   ],
   "source": [
    "import matplotlib.pyplot as plt\n",
    "\n",
    "plt.figure(figsize=(12, 6))\n",
    "\n",
    "for key, df in dfs.items():\n",
    "    plt.plot(df['time'], df['total net asssets (investor)'], color='blue', alpha=0.05)  # alpha sets the transparency\n",
    "\n",
    "\n",
    "plt.title('Monte Carlo Simulations of Investor Net Assets Over Time')\n",
    "# plt.yscale('log')\n",
    "plt.xlabel('Age')\n",
    "plt.ylabel('Total Net Assets (Investor)');"
   ]
  }
 ],
 "metadata": {
  "colab": {
   "provenance": []
  },
  "kernelspec": {
   "display_name": "Python 3 (ipykernel)",
   "language": "python",
   "name": "python3"
  },
  "language_info": {
   "codemirror_mode": {
    "name": "ipython",
    "version": 3
   },
   "file_extension": ".py",
   "mimetype": "text/x-python",
   "name": "python",
   "nbconvert_exporter": "python",
   "pygments_lexer": "ipython3",
   "version": "3.9.13"
  }
 },
 "nbformat": 4,
 "nbformat_minor": 5
}
